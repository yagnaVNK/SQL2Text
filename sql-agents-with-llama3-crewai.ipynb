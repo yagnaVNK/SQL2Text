{
 "cells": [
  {
   "cell_type": "code",
   "execution_count": null,
   "metadata": {
    "id": "FleT2R_drV1L"
   },
   "outputs": [],
   "source": [
    "!pip -qqq install pip --progress-bar off\n",
    "!pip -qqq install langchain-core==0.2.9 --progress-bar off\n",
    "!pip -qqq install langchain-community==0.2.5 --progress-bar off\n",
    "!pip -qqq install 'crewai[tools]'==0.32.0 --progress-bar off\n",
    "!pip -qqq install langchain-groq==0.1.5 --progress-bar off\n",
    "!pip -qqq install langchain-experimental==0.0.61 --progress-bar off"
   ]
  },
  {
   "cell_type": "code",
   "execution_count": 2,
   "metadata": {
    "id": "I2mrtJhSEsiw"
   },
   "outputs": [
    {
     "data": {
      "text/plain": [
       "True"
      ]
     },
     "execution_count": 2,
     "metadata": {},
     "output_type": "execute_result"
    }
   ],
   "source": [
    "import json\n",
    "import os\n",
    "import sqlite3\n",
    "from dataclasses import asdict, dataclass\n",
    "from datetime import datetime, timezone\n",
    "from pathlib import Path\n",
    "from textwrap import dedent\n",
    "from typing import Any, Dict, List, Tuple, Union\n",
    "\n",
    "import pandas as pd\n",
    "from crewai import Agent, Crew, Process, Task, LLM\n",
    "from crewai.tools import tool\n",
    "from langchain.schema import AgentFinish\n",
    "from langchain.schema.output import LLMResult\n",
    "from langchain_community.tools.sql_database.tool import (\n",
    "    InfoSQLDatabaseTool,\n",
    "    ListSQLDatabaseTool,\n",
    "    QuerySQLCheckerTool,\n",
    "    QuerySQLDataBaseTool,\n",
    ")\n",
    "from langchain_community.utilities.sql_database import SQLDatabase\n",
    "from langchain_core.callbacks.base import BaseCallbackHandler\n",
    "from langchain_core.prompts import ChatPromptTemplate\n",
    "from langchain_ollama import ChatOllama\n",
    "from langchain_groq import ChatGroq\n",
    "from dotenv import  load_dotenv\n",
    "\n",
    "load_dotenv()\n",
    "\n"
   ]
  },
  {
   "cell_type": "code",
   "execution_count": 3,
   "metadata": {
    "colab": {
     "base_uri": "https://localhost:8080/",
     "height": 206
    },
    "id": "se6FP6n-HHkf",
    "outputId": "176962f8-afda-42b4-d982-367297c046e1"
   },
   "outputs": [
    {
     "data": {
      "text/html": [
       "<div>\n",
       "<style scoped>\n",
       "    .dataframe tbody tr th:only-of-type {\n",
       "        vertical-align: middle;\n",
       "    }\n",
       "\n",
       "    .dataframe tbody tr th {\n",
       "        vertical-align: top;\n",
       "    }\n",
       "\n",
       "    .dataframe thead th {\n",
       "        text-align: right;\n",
       "    }\n",
       "</style>\n",
       "<table border=\"1\" class=\"dataframe\">\n",
       "  <thead>\n",
       "    <tr style=\"text-align: right;\">\n",
       "      <th></th>\n",
       "      <th>student_id</th>\n",
       "      <th>student_name</th>\n",
       "      <th>advisor_name</th>\n",
       "      <th>course_code</th>\n",
       "      <th>course_name</th>\n",
       "      <th>term</th>\n",
       "      <th>instructor_name</th>\n",
       "      <th>days</th>\n",
       "      <th>time</th>\n",
       "      <th>building</th>\n",
       "      <th>room_number</th>\n",
       "      <th>credits</th>\n",
       "    </tr>\n",
       "  </thead>\n",
       "  <tbody>\n",
       "    <tr>\n",
       "      <th>0</th>\n",
       "      <td>SID01</td>\n",
       "      <td>Student 01</td>\n",
       "      <td>Advisor 2</td>\n",
       "      <td>CSC101</td>\n",
       "      <td>Intro to CS</td>\n",
       "      <td>Fall 2024</td>\n",
       "      <td>Professor 1</td>\n",
       "      <td>MWF</td>\n",
       "      <td>08:00:00</td>\n",
       "      <td>Building 1</td>\n",
       "      <td>100</td>\n",
       "      <td>3</td>\n",
       "    </tr>\n",
       "    <tr>\n",
       "      <th>1</th>\n",
       "      <td>SID01</td>\n",
       "      <td>Student 01</td>\n",
       "      <td>Advisor 2</td>\n",
       "      <td>CSC102</td>\n",
       "      <td>Data Structures</td>\n",
       "      <td>Fall 2024</td>\n",
       "      <td>Professor 2</td>\n",
       "      <td>TR</td>\n",
       "      <td>10:00:00</td>\n",
       "      <td>Building 2</td>\n",
       "      <td>101</td>\n",
       "      <td>4</td>\n",
       "    </tr>\n",
       "    <tr>\n",
       "      <th>2</th>\n",
       "      <td>SID01</td>\n",
       "      <td>Student 01</td>\n",
       "      <td>Advisor 2</td>\n",
       "      <td>CSC103</td>\n",
       "      <td>Algorithms</td>\n",
       "      <td>Fall 2024</td>\n",
       "      <td>Professor 3</td>\n",
       "      <td>MWF</td>\n",
       "      <td>13:00:00</td>\n",
       "      <td>Building 3</td>\n",
       "      <td>102</td>\n",
       "      <td>3</td>\n",
       "    </tr>\n",
       "    <tr>\n",
       "      <th>3</th>\n",
       "      <td>SID02</td>\n",
       "      <td>Student 02</td>\n",
       "      <td>Advisor 3</td>\n",
       "      <td>CSC104</td>\n",
       "      <td>Databases</td>\n",
       "      <td>Fall 2024</td>\n",
       "      <td>Professor 4</td>\n",
       "      <td>TR</td>\n",
       "      <td>15:00:00</td>\n",
       "      <td>Building 1</td>\n",
       "      <td>103</td>\n",
       "      <td>4</td>\n",
       "    </tr>\n",
       "    <tr>\n",
       "      <th>4</th>\n",
       "      <td>SID02</td>\n",
       "      <td>Student 02</td>\n",
       "      <td>Advisor 3</td>\n",
       "      <td>CSC105</td>\n",
       "      <td>Operating Systems</td>\n",
       "      <td>Fall 2024</td>\n",
       "      <td>Professor 5</td>\n",
       "      <td>MWF</td>\n",
       "      <td>08:00:00</td>\n",
       "      <td>Building 2</td>\n",
       "      <td>104</td>\n",
       "      <td>3</td>\n",
       "    </tr>\n",
       "  </tbody>\n",
       "</table>\n",
       "</div>"
      ],
      "text/plain": [
       "  student_id student_name advisor_name course_code        course_name  \\\n",
       "0      SID01   Student 01    Advisor 2      CSC101        Intro to CS   \n",
       "1      SID01   Student 01    Advisor 2      CSC102    Data Structures   \n",
       "2      SID01   Student 01    Advisor 2      CSC103         Algorithms   \n",
       "3      SID02   Student 02    Advisor 3      CSC104          Databases   \n",
       "4      SID02   Student 02    Advisor 3      CSC105  Operating Systems   \n",
       "\n",
       "        term instructor_name days      time    building  room_number  credits  \n",
       "0  Fall 2024     Professor 1  MWF  08:00:00  Building 1          100        3  \n",
       "1  Fall 2024     Professor 2   TR  10:00:00  Building 2          101        4  \n",
       "2  Fall 2024     Professor 3  MWF  13:00:00  Building 3          102        3  \n",
       "3  Fall 2024     Professor 4   TR  15:00:00  Building 1          103        4  \n",
       "4  Fall 2024     Professor 5  MWF  08:00:00  Building 2          104        3  "
      ]
     },
     "execution_count": 3,
     "metadata": {},
     "output_type": "execute_result"
    }
   ],
   "source": [
    "df = pd.read_excel(\"./Files/Student Schedule Dataset with Dimension Description.xlsx\", sheet_name=\"Sheet1\")\n",
    "df.columns = df.columns.str.strip().str.lower().str.replace(' ', '_')\n",
    "\n",
    "df.head()"
   ]
  },
  {
   "cell_type": "code",
   "execution_count": 4,
   "metadata": {
    "colab": {
     "base_uri": "https://localhost:8080/"
    },
    "id": "ks123h49RMwM",
    "outputId": "4cd955b8-4324-4ec1-cdb4-7dd16889064e"
   },
   "outputs": [
    {
     "data": {
      "text/plain": [
       "50"
      ]
     },
     "execution_count": 4,
     "metadata": {},
     "output_type": "execute_result"
    }
   ],
   "source": [
    "connection = sqlite3.connect(\"student_details.db\")\n",
    "df.to_sql(name=\"students\", if_exists=\"replace\",con=connection)"
   ]
  },
  {
   "cell_type": "markdown",
   "metadata": {
    "id": "YR-IEK5_zqSy"
   },
   "source": [
    "## LLM (Llama 3)"
   ]
  },
  {
   "cell_type": "code",
   "execution_count": 5,
   "metadata": {
    "id": "5mIreDW7nnvz"
   },
   "outputs": [],
   "source": [
    "@dataclass\n",
    "class Event:\n",
    "    event: str\n",
    "    timestamp: str\n",
    "    text: str\n",
    "\n",
    "\n",
    "def _current_time() -> str:\n",
    "    return datetime.now(timezone.utc).isoformat()\n",
    "\n",
    "\n",
    "class LLMCallbackHandler(BaseCallbackHandler):\n",
    "    def __init__(self, log_path: Path):\n",
    "        self.log_path = log_path\n",
    "\n",
    "    def on_llm_start(\n",
    "        self, serialized: Dict[str, Any], prompts: List[str], **kwargs: Any\n",
    "    ) -> Any:\n",
    "        \"\"\"Run when LLM starts running.\"\"\"\n",
    "        assert len(prompts) == 1\n",
    "        event = Event(event=\"llm_start\", timestamp=_current_time(), text=prompts[0])\n",
    "        with self.log_path.open(\"a\", encoding=\"utf-8\") as file:\n",
    "            file.write(json.dumps(asdict(event)) + \"\\n\")\n",
    "\n",
    "    def on_llm_end(self, response: LLMResult, **kwargs: Any) -> Any:\n",
    "        \"\"\"Run when LLM ends running.\"\"\"\n",
    "        generation = response.generations[-1][-1].message.content\n",
    "        event = Event(event=\"llm_end\", timestamp=_current_time(), text=generation)\n",
    "        with self.log_path.open(\"a\", encoding=\"utf-8\") as file:\n",
    "            file.write(json.dumps(asdict(event)) + \"\\n\")"
   ]
  },
  {
   "cell_type": "code",
   "execution_count": 6,
   "metadata": {
    "id": "PI3M9ZZ9csRn"
   },
   "outputs": [],
   "source": [
    "llm = ChatGroq(\n",
    "    temperature=0,\n",
    "    model_name=\"llama3-70b-8192\",\n",
    "    callbacks=[LLMCallbackHandler(Path(\"prompts.jsonl\"))],\n",
    ")\n",
    "\n",
    "my_llm = LLM(\n",
    "    api_key=os.getenv(\"GROQ_API_KEY\"),\n",
    "    model=\"llama3-70b-8192\",\n",
    ")\n",
    "\n"
   ]
  },
  {
   "cell_type": "code",
   "execution_count": 7,
   "metadata": {
    "colab": {
     "base_uri": "https://localhost:8080/"
    },
    "id": "X2Djmv7jpTu0",
    "outputId": "c0ebea17-cada-4add-e2f3-ec5685a9f67a"
   },
   "outputs": [
    {
     "name": "stdout",
     "output_type": "stream",
     "text": [
      "Anthropic.\n"
     ]
    }
   ],
   "source": [
    "human = \"{text}\"\n",
    "prompt = ChatPromptTemplate.from_messages([(\"human\", human)])\n",
    "\n",
    "\n",
    "my_llm=LLM(model=\"ollama/llama3.2\", base_url=\"http://localhost:11434\")\n",
    "response = my_llm.call(\n",
    "    \"Which company has better models OpenAI or Anthropic? Respond with just the company name.\"\n",
    "\n",
    ")\n",
    "\n",
    "print(response)"
   ]
  },
  {
   "cell_type": "markdown",
   "metadata": {
    "id": "hsRgIsE3I2Hj"
   },
   "source": [
    "## Tools"
   ]
  },
  {
   "cell_type": "code",
   "execution_count": 8,
   "metadata": {
    "id": "ul46tZozOkOt"
   },
   "outputs": [],
   "source": [
    "db = SQLDatabase.from_uri(\"sqlite:///student_details.db\")"
   ]
  },
  {
   "cell_type": "code",
   "execution_count": 9,
   "metadata": {
    "id": "KB8e9LkLU7P4"
   },
   "outputs": [],
   "source": [
    "@tool(\"list_tables\")\n",
    "def list_tables() -> str:\n",
    "    \"\"\"List the available tables in the database\"\"\"\n",
    "    return ListSQLDatabaseTool(db=db).invoke(\"\")"
   ]
  },
  {
   "cell_type": "code",
   "execution_count": 10,
   "metadata": {
    "colab": {
     "base_uri": "https://localhost:8080/",
     "height": 53
    },
    "id": "kwf--ttQVIkl",
    "outputId": "3d0c05fb-409e-4ce7-8747-75e5e72fe5d5"
   },
   "outputs": [
    {
     "name": "stdout",
     "output_type": "stream",
     "text": [
      "Using Tool: list_tables\n"
     ]
    },
    {
     "data": {
      "text/plain": [
       "'students'"
      ]
     },
     "execution_count": 10,
     "metadata": {},
     "output_type": "execute_result"
    }
   ],
   "source": [
    "list_tables.run()"
   ]
  },
  {
   "cell_type": "code",
   "execution_count": 11,
   "metadata": {
    "id": "S0KIpH6HaDxL"
   },
   "outputs": [],
   "source": [
    "@tool(\"tables_schema\")\n",
    "def tables_schema(tables: str) -> str:\n",
    "    \"\"\"\n",
    "    Input is a comma-separated list of tables, output is the schema and sample rows\n",
    "    for those tables. Be sure that the tables actually exist by calling `list_tables` first!\n",
    "    Example Input: table1, table2, table3\n",
    "    \"\"\"\n",
    "    tool = InfoSQLDatabaseTool(db=db)\n",
    "    return tool.invoke(tables)"
   ]
  },
  {
   "cell_type": "code",
   "execution_count": 12,
   "metadata": {
    "colab": {
     "base_uri": "https://localhost:8080/"
    },
    "id": "ZAB_BjhNXw9v",
    "outputId": "48a1e436-4f55-44b5-f216-cd4a0ee338bc"
   },
   "outputs": [
    {
     "name": "stdout",
     "output_type": "stream",
     "text": [
      "Using Tool: tables_schema\n",
      "\n",
      "CREATE TABLE students (\n",
      "\t\"index\" INTEGER, \n",
      "\tstudent_id TEXT, \n",
      "\tstudent_name TEXT, \n",
      "\tadvisor_name TEXT, \n",
      "\tcourse_code TEXT, \n",
      "\tcourse_name TEXT, \n",
      "\tterm TEXT, \n",
      "\tinstructor_name TEXT, \n",
      "\tdays TEXT, \n",
      "\ttime TIME, \n",
      "\tbuilding TEXT, \n",
      "\troom_number INTEGER, \n",
      "\tcredits INTEGER\n",
      ")\n",
      "\n",
      "/*\n",
      "3 rows from students table:\n",
      "index\tstudent_id\tstudent_name\tadvisor_name\tcourse_code\tcourse_name\tterm\tinstructor_name\tdays\ttime\tbuilding\troom_number\tcredits\n",
      "0\tSID01\tStudent 01\tAdvisor 2\tCSC101\tIntro to CS\tFall 2024\tProfessor 1\tMWF\t08:00:00\tBuilding 1\t100\t3\n",
      "1\tSID01\tStudent 01\tAdvisor 2\tCSC102\tData Structures\tFall 2024\tProfessor 2\tTR\t10:00:00\tBuilding 2\t101\t4\n",
      "2\tSID01\tStudent 01\tAdvisor 2\tCSC103\tAlgorithms\tFall 2024\tProfessor 3\tMWF\t13:00:00\tBuilding 3\t102\t3\n",
      "*/\n"
     ]
    }
   ],
   "source": [
    "print(tables_schema.run(\"students\"))"
   ]
  },
  {
   "cell_type": "code",
   "execution_count": 13,
   "metadata": {
    "id": "vifEpErMeSue"
   },
   "outputs": [],
   "source": [
    "@tool(\"execute_sql\")\n",
    "def execute_sql(sql_query: str) -> str:\n",
    "    \"\"\"Execute a SQL query against the database. Returns the result\"\"\"\n",
    "    return QuerySQLDataBaseTool(db=db).invoke(sql_query)"
   ]
  },
  {
   "cell_type": "code",
   "execution_count": 14,
   "metadata": {
    "colab": {
     "base_uri": "https://localhost:8080/",
     "height": 89
    },
    "id": "uJxl4UT4cL2e",
    "outputId": "41815107-bfd2-4f9c-f4f2-c521dd6bb065"
   },
   "outputs": [
    {
     "name": "stdout",
     "output_type": "stream",
     "text": [
      "Using Tool: execute_sql\n"
     ]
    },
    {
     "name": "stderr",
     "output_type": "stream",
     "text": [
      "C:\\Users\\kaasa\\AppData\\Local\\Temp\\ipykernel_30224\\2967140761.py:4: LangChainDeprecationWarning: The class `QuerySQLDataBaseTool` was deprecated in LangChain 0.3.12 and will be removed in 1.0. An updated version of the class exists in the :class:`~langchain-community package and should be used instead. To use it run `pip install -U :class:`~langchain-community` and import as `from :class:`~langchain_community.tools import QuerySQLDatabaseTool``.\n",
      "  return QuerySQLDataBaseTool(db=db).invoke(sql_query)\n"
     ]
    },
    {
     "data": {
      "text/plain": [
       "\"[(0, 'SID01', 'Student 01', 'Advisor 2', 'CSC101', 'Intro to CS', 'Fall 2024', 'Professor 1', 'MWF', '08:00:00.000000', 'Building 1', 100, 3), (1, 'SID01', 'Student 01', 'Advisor 2', 'CSC102', 'Data Structures', 'Fall 2024', 'Professor 2', 'TR', '10:00:00.000000', 'Building 2', 101, 4), (2, 'SID01', 'Student 01', 'Advisor 2', 'CSC103', 'Algorithms', 'Fall 2024', 'Professor 3', 'MWF', '13:00:00.000000', 'Building 3', 102, 3), (3, 'SID02', 'Student 02', 'Advisor 3', 'CSC104', 'Databases', 'Fall 2024', 'Professor 4', 'TR', '15:00:00.000000', 'Building 1', 103, 4), (4, 'SID02', 'Student 02', 'Advisor 3', 'CSC105', 'Operating Systems', 'Fall 2024', 'Professor 5', 'MWF', '08:00:00.000000', 'Building 2', 104, 3), (5, 'SID02', 'Student 02', 'Advisor 3', 'CSC106', 'AI Fundamentals', 'Fall 2024', 'Professor 6', 'TR', '10:00:00.000000', 'Building 3', 105, 4), (6, 'SID03', 'Student 03', 'Advisor 4', 'CSC107', 'Software Engineering', 'Fall 2024', 'Professor 7', 'MWF', '13:00:00.000000', 'Building 1', 106, 3), (7, 'SID03', 'Student 03', 'Advisor 4', 'CSC108', 'Machine Learning', 'Fall 2024', 'Professor 1', 'TR', '15:00:00.000000', 'Building 2', 107, 4), (8, 'SID03', 'Student 03', 'Advisor 4', 'CSC109', 'Cybersecurity', 'Fall 2024', 'Professor 2', 'MWF', '08:00:00.000000', 'Building 3', 108, 3), (9, 'SID04', 'Student 04', 'Advisor 5', 'CSC110', 'Cloud Computing', 'Fall 2024', 'Professor 3', 'TR', '10:00:00.000000', 'Building 1', 109, 4), (10, 'SID04', 'Student 04', 'Advisor 5', 'CSC101', 'Intro to CS', 'Fall 2024', 'Professor 4', 'MWF', '13:00:00.000000', 'Building 2', 100, 3), (11, 'SID04', 'Student 04', 'Advisor 5', 'CSC102', 'Data Structures', 'Fall 2024', 'Professor 5', 'TR', '15:00:00.000000', 'Building 3', 101, 4), (12, 'SID05', 'Student 05', 'Advisor 1', 'CSC103', 'Algorithms', 'Fall 2024', 'Professor 6', 'MWF', '08:00:00.000000', 'Building 1', 102, 3), (13, 'SID05', 'Student 05', 'Advisor 1', 'CSC104', 'Databases', 'Fall 2024', 'Professor 7', 'TR', '10:00:00.000000', 'Building 2', 103, 4), (14, 'SID05', 'Student 05', 'Advisor 1', 'CSC105', 'Operating Systems', 'Fall 2024', 'Professor 1', 'MWF', '13:00:00.000000', 'Building 3', 104, 3), (15, 'SID06', 'Student 06', 'Advisor 2', 'CSC106', 'AI Fundamentals', 'Fall 2024', 'Professor 2', 'TR', '15:00:00.000000', 'Building 1', 105, 4), (16, 'SID06', 'Student 06', 'Advisor 2', 'CSC107', 'Software Engineering', 'Fall 2024', 'Professor 3', 'MWF', '08:00:00.000000', 'Building 2', 106, 3), (17, 'SID06', 'Student 06', 'Advisor 2', 'CSC108', 'Machine Learning', 'Fall 2024', 'Professor 4', 'TR', '10:00:00.000000', 'Building 3', 107, 4), (18, 'SID07', 'Student 07', 'Advisor 3', 'CSC109', 'Cybersecurity', 'Fall 2024', 'Professor 5', 'MWF', '13:00:00.000000', 'Building 1', 108, 3), (19, 'SID07', 'Student 07', 'Advisor 3', 'CSC110', 'Cloud Computing', 'Fall 2024', 'Professor 6', 'TR', '15:00:00.000000', 'Building 2', 109, 4), (20, 'SID07', 'Student 07', 'Advisor 3', 'CSC101', 'Intro to CS', 'Fall 2024', 'Professor 7', 'MWF', '08:00:00.000000', 'Building 3', 100, 3), (21, 'SID08', 'Student 08', 'Advisor 4', 'CSC102', 'Data Structures', 'Fall 2024', 'Professor 1', 'TR', '10:00:00.000000', 'Building 1', 101, 4), (22, 'SID08', 'Student 08', 'Advisor 4', 'CSC103', 'Algorithms', 'Fall 2024', 'Professor 2', 'MWF', '13:00:00.000000', 'Building 2', 102, 3), (23, 'SID08', 'Student 08', 'Advisor 4', 'CSC104', 'Databases', 'Fall 2024', 'Professor 3', 'TR', '15:00:00.000000', 'Building 3', 103, 4), (24, 'SID09', 'Student 09', 'Advisor 5', 'CSC105', 'Operating Systems', 'Fall 2024', 'Professor 4', 'MWF', '08:00:00.000000', 'Building 1', 104, 3), (25, 'SID09', 'Student 09', 'Advisor 5', 'CSC106', 'AI Fundamentals', 'Fall 2024', 'Professor 5', 'TR', '10:00:00.000000', 'Building 2', 105, 4), (26, 'SID09', 'Student 09', 'Advisor 5', 'CSC107', 'Software Engineering', 'Fall 2024', 'Professor 6', 'MWF', '13:00:00.000000', 'Building 3', 106, 3), (27, 'SID10', 'Student 10', 'Advisor 1', 'CSC108', 'Machine Learning', 'Fall 2024', 'Professor 7', 'TR', '15:00:00.000000', 'Building 1', 107, 4), (28, 'SID10', 'Student 10', 'Advisor 1', 'CSC109', 'Cybersecurity', 'Fall 2024', 'Professor 1', 'MWF', '08:00:00.000000', 'Building 2', 108, 3), (29, 'SID11', 'Student 11', 'Advisor 2', 'CSC110', 'Cloud Computing', 'Fall 2024', 'Professor 2', 'TR', '10:00:00.000000', 'Building 3', 109, 4), (30, 'SID11', 'Student 11', 'Advisor 2', 'CSC101', 'Intro to CS', 'Fall 2024', 'Professor 3', 'MWF', '13:00:00.000000', 'Building 1', 100, 3), (31, 'SID11', 'Student 11', 'Advisor 2', 'CSC102', 'Data Structures', 'Fall 2024', 'Professor 4', 'TR', '15:00:00.000000', 'Building 2', 101, 4), (32, 'SID12', 'Student 12', 'Advisor 3', 'CSC103', 'Algorithms', 'Fall 2024', 'Professor 5', 'MWF', '08:00:00.000000', 'Building 3', 102, 3), (33, 'SID12', 'Student 12', 'Advisor 3', 'CSC104', 'Databases', 'Fall 2024', 'Professor 6', 'TR', '10:00:00.000000', 'Building 1', 103, 4), (34, 'SID12', 'Student 12', 'Advisor 3', 'CSC105', 'Operating Systems', 'Fall 2024', 'Professor 7', 'MWF', '13:00:00.000000', 'Building 2', 104, 3), (35, 'SID13', 'Student 13', 'Advisor 4', 'CSC106', 'AI Fundamentals', 'Fall 2024', 'Professor 1', 'TR', '15:00:00.000000', 'Building 3', 105, 4), (36, 'SID13', 'Student 13', 'Advisor 4', 'CSC107', 'Software Engineering', 'Fall 2024', 'Professor 2', 'MWF', '08:00:00.000000', 'Building 1', 106, 3), (37, 'SID13', 'Student 13', 'Advisor 4', 'CSC108', 'Machine Learning', 'Fall 2024', 'Professor 3', 'TR', '10:00:00.000000', 'Building 2', 107, 4), (38, 'SID14', 'Student 14', 'Advisor 5', 'CSC109', 'Cybersecurity', 'Fall 2024', 'Professor 4', 'MWF', '13:00:00.000000', 'Building 3', 108, 3), (39, 'SID14', 'Student 14', 'Advisor 5', 'CSC110', 'Cloud Computing', 'Fall 2024', 'Professor 5', 'TR', '15:00:00.000000', 'Building 1', 109, 4), (40, 'SID14', 'Student 14', 'Advisor 5', 'CSC101', 'Intro to CS', 'Fall 2024', 'Professor 6', 'MWF', '08:00:00.000000', 'Building 2', 100, 3), (41, 'SID15', 'Student 15', 'Advisor 1', 'CSC102', 'Data Structures', 'Fall 2024', 'Professor 7', 'TR', '10:00:00.000000', 'Building 3', 101, 4), (42, 'SID15', 'Student 15', 'Advisor 1', 'CSC103', 'Algorithms', 'Fall 2024', 'Professor 1', 'MWF', '13:00:00.000000', 'Building 1', 102, 3), (43, 'SID15', 'Student 15', 'Advisor 1', 'CSC104', 'Databases', 'Fall 2024', 'Professor 2', 'TR', '15:00:00.000000', 'Building 2', 103, 4), (44, 'SID16', 'Student 16', 'Advisor 2', 'CSC105', 'Operating Systems', 'Fall 2024', 'Professor 3', 'MWF', '08:00:00.000000', 'Building 3', 104, 3), (45, 'SID16', 'Student 16', 'Advisor 2', 'CSC106', 'AI Fundamentals', 'Fall 2024', 'Professor 4', 'TR', '10:00:00.000000', 'Building 1', 105, 4), (46, 'SID16', 'Student 16', 'Advisor 2', 'CSC107', 'Software Engineering', 'Fall 2024', 'Professor 5', 'MWF', '13:00:00.000000', 'Building 2', 106, 3), (47, 'SID17', 'Student 17', 'Advisor 3', 'CSC108', 'Machine Learning', 'Fall 2024', 'Professor 6', 'TR', '15:00:00.000000', 'Building 3', 107, 4), (48, 'SID17', 'Student 17', 'Advisor 3', 'CSC109', 'Cybersecurity', 'Fall 2024', 'Professor 7', 'MWF', '08:00:00.000000', 'Building 1', 108, 3), (49, 'SID17', 'Student 17', 'Advisor 3', 'CSC110', 'Cloud Computing', 'Fall 2024', 'Professor 1', 'TR', '10:00:00.000000', 'Building 2', 109, 4)]\""
      ]
     },
     "execution_count": 14,
     "metadata": {},
     "output_type": "execute_result"
    }
   ],
   "source": [
    "execute_sql.run(\"SELECT * FROM students \")"
   ]
  },
  {
   "cell_type": "code",
   "execution_count": 15,
   "metadata": {
    "id": "LYCpTYKHfizV"
   },
   "outputs": [],
   "source": [
    "@tool(\"check_sql\")\n",
    "def check_sql(sql_query: str) -> str:\n",
    "    \"\"\"\n",
    "    Use this tool to double check if your query is correct before executing it. Always use this\n",
    "    tool before executing a query with `execute_sql`.\n",
    "    \"\"\"\n",
    "    return QuerySQLCheckerTool(db=db, llm=llm).invoke({\"query\": sql_query})"
   ]
  },
  {
   "cell_type": "code",
   "execution_count": 16,
   "metadata": {
    "colab": {
     "base_uri": "https://localhost:8080/",
     "height": 53
    },
    "id": "H2yDnu-rfuEs",
    "outputId": "5c580a2e-c724-474c-ccd4-f559a7eb7be8"
   },
   "outputs": [
    {
     "name": "stdout",
     "output_type": "stream",
     "text": [
      "Using Tool: check_sql\n"
     ]
    },
    {
     "data": {
      "text/plain": [
       "'SELECT * FROM salaries WHERE salary > 10000 LIMIT 5'"
      ]
     },
     "execution_count": 16,
     "metadata": {},
     "output_type": "execute_result"
    }
   ],
   "source": [
    "check_sql.run(\"SELECT * WHERE salary > 10000 LIMIT 5 table = salaries\")"
   ]
  },
  {
   "cell_type": "markdown",
   "metadata": {
    "id": "Es7Me3VqqiWX"
   },
   "source": [
    "## Agents"
   ]
  },
  {
   "cell_type": "code",
   "execution_count": 17,
   "metadata": {
    "id": "qUpeHzLi3B_r"
   },
   "outputs": [],
   "source": [
    "sql_dev = Agent(\n",
    "    role=\"Senior Database Developer\",\n",
    "    goal=\"Construct and execute SQL queries based on a request\",\n",
    "    backstory=dedent(\n",
    "        \"\"\"\n",
    "        You are an experienced database engineer who is master at creating efficient and complex SQL queries.\n",
    "        You have a deep understanding of how different databases work and how to optimize queries.\n",
    "        Use the `list_tables` to find available tables.\n",
    "        Use the `tables_schema` to understand the metadata for the tables.\n",
    "        Use the `execute_sql` to check your queries for correctness.\n",
    "        Use the `check_sql` to execute queries against the database.\n",
    "    \"\"\"\n",
    "    ),\n",
    "    llm=my_llm,\n",
    "    tools=[list_tables, tables_schema, execute_sql, check_sql],\n",
    "    allow_delegation=False,\n",
    ")"
   ]
  },
  {
   "cell_type": "code",
   "execution_count": 18,
   "metadata": {
    "id": "wyQr8uTSJSfl"
   },
   "outputs": [],
   "source": [
    "data_analyst = Agent(\n",
    "    role=\"Senior Data Analyst\",\n",
    "    goal=\"You receive data from the database developer and analyze it\",\n",
    "    backstory=dedent(\n",
    "        \"\"\"\n",
    "        You have deep experience with analyzing datasets using Python.\n",
    "        Your work is always based on the provided data and is clear,\n",
    "        easy-to-understand and to the point. You have attention\n",
    "        to detail and always produce very detailed work (as long as you need).\n",
    "    \"\"\"\n",
    "    ),\n",
    "    llm=my_llm,\n",
    "    allow_delegation=False,\n",
    ")"
   ]
  },
  {
   "cell_type": "code",
   "execution_count": 19,
   "metadata": {
    "id": "bl0aLoi5M04r"
   },
   "outputs": [],
   "source": [
    "report_writer = Agent(\n",
    "    role=\"Senior Report Editor\",\n",
    "    goal=\"Write an executive summary type of report based on the work of the analyst\",\n",
    "    backstory=dedent(\n",
    "        \"\"\"\n",
    "        Your writing still is well known for clear and effective communication.\n",
    "        You always summarize long texts into bullet points that contain the most\n",
    "        important details.\n",
    "        \"\"\"\n",
    "    ),\n",
    "    llm=my_llm,\n",
    "    allow_delegation=False,\n",
    ")"
   ]
  },
  {
   "cell_type": "markdown",
   "metadata": {
    "id": "FJ0XAiPIUka2"
   },
   "source": [
    "## Tasks"
   ]
  },
  {
   "cell_type": "code",
   "execution_count": 20,
   "metadata": {
    "id": "AbON9R2FVEoH"
   },
   "outputs": [],
   "source": [
    "extract_data = Task(\n",
    "    description=\"Extract data that is required for the query {query}.\",\n",
    "    expected_output=\"Database result for the query\",\n",
    "    agent=sql_dev,\n",
    ")"
   ]
  },
  {
   "cell_type": "code",
   "execution_count": 21,
   "metadata": {
    "id": "L8WAvXuQYvAX"
   },
   "outputs": [],
   "source": [
    "analyze_data = Task(\n",
    "    description=\"Analyze the data from the database and write an analysis for {query}.\",\n",
    "    expected_output=\"Detailed analysis text\",\n",
    "    agent=data_analyst,\n",
    "    context=[extract_data],\n",
    ")"
   ]
  },
  {
   "cell_type": "code",
   "execution_count": 22,
   "metadata": {
    "id": "2beRjmK1awqm"
   },
   "outputs": [],
   "source": [
    "write_report = Task(\n",
    "    description=dedent(\n",
    "        \"\"\"\n",
    "        Write an executive summary of the report from the analysis. The report\n",
    "        must be less than 100 words.\n",
    "    \"\"\"\n",
    "    ),\n",
    "    expected_output=\"Markdown report\",\n",
    "    agent=report_writer,\n",
    "    context=[analyze_data],\n",
    ")"
   ]
  },
  {
   "cell_type": "markdown",
   "metadata": {
    "id": "Kw8_nE5xdco0"
   },
   "source": [
    "## Crew"
   ]
  },
  {
   "cell_type": "code",
   "execution_count": 23,
   "metadata": {
    "id": "QIHvPJh8ddgT"
   },
   "outputs": [],
   "source": [
    "crew = Crew(\n",
    "    agents=[sql_dev, data_analyst, report_writer],\n",
    "    tasks=[extract_data, analyze_data, write_report],\n",
    "    process=Process.sequential,\n",
    "    verbose=True,\n",
    "    memory=False,\n",
    "    output_log_file=\"crew.log\",\n",
    ")"
   ]
  },
  {
   "cell_type": "code",
   "execution_count": 24,
   "metadata": {
    "colab": {
     "base_uri": "https://localhost:8080/"
    },
    "id": "zIHp4Tvsd3IG",
    "outputId": "751103aa-b478-4253-9e61-ae57a8065c20"
   },
   "outputs": [
    {
     "data": {
      "text/html": [
       "<pre style=\"white-space:pre;overflow-x:auto;line-height:normal;font-family:Menlo,'DejaVu Sans Mono',consolas,'Courier New',monospace\"><span style=\"color: #008080; text-decoration-color: #008080\">╭──────────────────────────────────────────── Crew Execution Started ─────────────────────────────────────────────╮</span>\n",
       "<span style=\"color: #008080; text-decoration-color: #008080\">│</span>                                                                                                                 <span style=\"color: #008080; text-decoration-color: #008080\">│</span>\n",
       "<span style=\"color: #008080; text-decoration-color: #008080\">│</span>  <span style=\"color: #008080; text-decoration-color: #008080; font-weight: bold\">Crew Execution Started</span>                                                                                         <span style=\"color: #008080; text-decoration-color: #008080\">│</span>\n",
       "<span style=\"color: #008080; text-decoration-color: #008080\">│</span>  <span style=\"color: #c0c0c0; text-decoration-color: #c0c0c0\">Name: </span><span style=\"color: #008080; text-decoration-color: #008080\">crew</span>                                                                                                     <span style=\"color: #008080; text-decoration-color: #008080\">│</span>\n",
       "<span style=\"color: #008080; text-decoration-color: #008080\">│</span>  <span style=\"color: #c0c0c0; text-decoration-color: #c0c0c0\">ID: </span><span style=\"color: #008080; text-decoration-color: #008080\">8b8dcad1-0ec3-46a2-be10-450c6b542a98</span>                                                                       <span style=\"color: #008080; text-decoration-color: #008080\">│</span>\n",
       "<span style=\"color: #008080; text-decoration-color: #008080\">│</span>                                                                                                                 <span style=\"color: #008080; text-decoration-color: #008080\">│</span>\n",
       "<span style=\"color: #008080; text-decoration-color: #008080\">│</span>                                                                                                                 <span style=\"color: #008080; text-decoration-color: #008080\">│</span>\n",
       "<span style=\"color: #008080; text-decoration-color: #008080\">╰─────────────────────────────────────────────────────────────────────────────────────────────────────────────────╯</span>\n",
       "</pre>\n"
      ],
      "text/plain": [
       "\u001b[36m╭─\u001b[0m\u001b[36m───────────────────────────────────────────\u001b[0m\u001b[36m Crew Execution Started \u001b[0m\u001b[36m────────────────────────────────────────────\u001b[0m\u001b[36m─╮\u001b[0m\n",
       "\u001b[36m│\u001b[0m                                                                                                                 \u001b[36m│\u001b[0m\n",
       "\u001b[36m│\u001b[0m  \u001b[1;36mCrew Execution Started\u001b[0m                                                                                         \u001b[36m│\u001b[0m\n",
       "\u001b[36m│\u001b[0m  \u001b[37mName: \u001b[0m\u001b[36mcrew\u001b[0m                                                                                                     \u001b[36m│\u001b[0m\n",
       "\u001b[36m│\u001b[0m  \u001b[37mID: \u001b[0m\u001b[36m8b8dcad1-0ec3-46a2-be10-450c6b542a98\u001b[0m                                                                       \u001b[36m│\u001b[0m\n",
       "\u001b[36m│\u001b[0m                                                                                                                 \u001b[36m│\u001b[0m\n",
       "\u001b[36m│\u001b[0m                                                                                                                 \u001b[36m│\u001b[0m\n",
       "\u001b[36m╰─────────────────────────────────────────────────────────────────────────────────────────────────────────────────╯\u001b[0m\n"
      ]
     },
     "metadata": {},
     "output_type": "display_data"
    },
    {
     "data": {
      "text/html": [
       "<pre style=\"white-space:pre;overflow-x:auto;line-height:normal;font-family:Menlo,'DejaVu Sans Mono',consolas,'Courier New',monospace\">\n",
       "</pre>\n"
      ],
      "text/plain": [
       "\n"
      ]
     },
     "metadata": {},
     "output_type": "display_data"
    },
    {
     "data": {
      "text/html": [
       "<pre style=\"white-space:pre;overflow-x:auto;line-height:normal;font-family:Menlo,'DejaVu Sans Mono',consolas,'Courier New',monospace\"><span style=\"color: #ff00ff; text-decoration-color: #ff00ff; font-weight: bold\"># Agent:</span> <span style=\"color: #00ff00; text-decoration-color: #00ff00; font-weight: bold\">Senior Database Developer</span>\n",
       "</pre>\n"
      ],
      "text/plain": [
       "\u001b[1;95m# Agent:\u001b[0m \u001b[1;92mSenior Database Developer\u001b[0m\n"
      ]
     },
     "metadata": {},
     "output_type": "display_data"
    },
    {
     "data": {
      "text/html": [
       "<pre style=\"white-space:pre;overflow-x:auto;line-height:normal;font-family:Menlo,'DejaVu Sans Mono',consolas,'Courier New',monospace\"><span style=\"color: #ff00ff; text-decoration-color: #ff00ff\">## Task:</span> <span style=\"color: #00ff00; text-decoration-color: #00ff00\">Extract data that is required for the query What are the courses of Student 01?.</span>\n",
       "</pre>\n"
      ],
      "text/plain": [
       "\u001b[95m## Task:\u001b[0m \u001b[92mExtract data that is required for the query What are the courses of Student 01?.\u001b[0m\n"
      ]
     },
     "metadata": {},
     "output_type": "display_data"
    },
    {
     "data": {
      "application/vnd.jupyter.widget-view+json": {
       "model_id": "a2393ed3d5ea42528055d01182e59bd4",
       "version_major": 2,
       "version_minor": 0
      },
      "text/plain": [
       "Output()"
      ]
     },
     "metadata": {},
     "output_type": "display_data"
    },
    {
     "ename": "",
     "evalue": "",
     "output_type": "error",
     "traceback": [
      "\u001b[1;31mThe Kernel crashed while executing code in the current cell or a previous cell. \n",
      "\u001b[1;31mPlease review the code in the cell(s) to identify a possible cause of the failure. \n",
      "\u001b[1;31mClick <a href='https://aka.ms/vscodeJupyterKernelCrash'>here</a> for more info. \n",
      "\u001b[1;31mView Jupyter <a href='command:jupyter.viewOutput'>log</a> for further details."
     ]
    }
   ],
   "source": [
    "inputs = {\n",
    "    \"query\": \"What are the courses of Student 01?\"\n",
    "}\n",
    "\n",
    "result = crew.kickoff(inputs=inputs)"
   ]
  },
  {
   "cell_type": "code",
   "execution_count": 1,
   "metadata": {
    "colab": {
     "base_uri": "https://localhost:8080/"
    },
    "id": "J03lgCY-vkU3",
    "outputId": "97e4176a-8564-4db4-813b-d909bd3673c8"
   },
   "outputs": [
    {
     "ename": "NameError",
     "evalue": "name 'result' is not defined",
     "output_type": "error",
     "traceback": [
      "\u001b[1;31m---------------------------------------------------------------------------\u001b[0m",
      "\u001b[1;31mNameError\u001b[0m                                 Traceback (most recent call last)",
      "Cell \u001b[1;32mIn[1], line 1\u001b[0m\n\u001b[1;32m----> 1\u001b[0m \u001b[38;5;28mprint\u001b[39m(\u001b[43mresult\u001b[49m)\n",
      "\u001b[1;31mNameError\u001b[0m: name 'result' is not defined"
     ]
    }
   ],
   "source": [
    "print(result)"
   ]
  },
  {
   "cell_type": "code",
   "execution_count": null,
   "metadata": {
    "colab": {
     "base_uri": "https://localhost:8080/"
    },
    "id": "ARPWEJ-DwRIV",
    "outputId": "9b92daf9-b54c-429c-936c-ea2f91c5109e"
   },
   "outputs": [],
   "source": [
    "inputs = {\n",
    "    \"query\": \"How is the `Machine Learning Engineer` salary in USD is affected by remote positions\"\n",
    "}\n",
    "\n",
    "result = crew.kickoff(inputs=inputs)"
   ]
  },
  {
   "cell_type": "code",
   "execution_count": null,
   "metadata": {
    "colab": {
     "base_uri": "https://localhost:8080/"
    },
    "id": "47ITwN1JzUcp",
    "outputId": "ffda2743-08d1-41d4-d554-689dace56841"
   },
   "outputs": [],
   "source": [
    "print(result)"
   ]
  },
  {
   "cell_type": "markdown",
   "metadata": {
    "id": "R8zxiGvsE1KY"
   },
   "source": [
    "## References\n",
    "\n",
    "- [DS Salaries Dataset](https://huggingface.co/datasets/Einstellung/demo-salaries)"
   ]
  }
 ],
 "metadata": {
  "colab": {
   "provenance": []
  },
  "kernelspec": {
   "display_name": ".venv",
   "language": "python",
   "name": "python3"
  },
  "language_info": {
   "codemirror_mode": {
    "name": "ipython",
    "version": 3
   },
   "file_extension": ".py",
   "mimetype": "text/x-python",
   "name": "python",
   "nbconvert_exporter": "python",
   "pygments_lexer": "ipython3",
   "version": "3.10.11"
  }
 },
 "nbformat": 4,
 "nbformat_minor": 0
}
